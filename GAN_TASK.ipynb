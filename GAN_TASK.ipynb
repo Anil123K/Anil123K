{
  "nbformat": 4,
  "nbformat_minor": 0,
  "metadata": {
    "colab": {
      "provenance": [],
      "authorship_tag": "ABX9TyP9F8nkqxLJEnbbjiioitrJ",
      "include_colab_link": true
    },
    "kernelspec": {
      "name": "python3",
      "display_name": "Python 3"
    },
    "language_info": {
      "name": "python"
    }
  },
  "cells": [
    {
      "cell_type": "markdown",
      "metadata": {
        "id": "view-in-github",
        "colab_type": "text"
      },
      "source": [
        "<a href=\"https://colab.research.google.com/github/Anil123K/Anil123K/blob/main/GAN_TASK.ipynb\" target=\"_parent\"><img src=\"https://colab.research.google.com/assets/colab-badge.svg\" alt=\"Open In Colab\"/></a>"
      ]
    },
    {
      "cell_type": "code",
      "execution_count": 2,
      "metadata": {
        "colab": {
          "base_uri": "https://localhost:8080/"
        },
        "id": "NLGWIqyy9TPy",
        "outputId": "25663401-716a-4bcd-bd34-8aa20d8092c7"
      },
      "outputs": [
        {
          "output_type": "stream",
          "name": "stdout",
          "text": [
            "Drive already mounted at /content/drive; to attempt to forcibly remount, call drive.mount(\"/content/drive\", force_remount=True).\n"
          ]
        }
      ],
      "source": [
        "from google.colab import drive\n",
        "drive.mount('/content/drive')"
      ]
    },
    {
      "cell_type": "code",
      "source": [
        "import tensorflow as tf\n",
        "from keras.layers import Input, Reshape, Dropout, Dense\n",
        "from keras.layers import Flatten, BatchNormalization\n",
        "from keras.layers import Activation, ZeroPadding2D\n",
        "from keras.layers import LeakyReLU\n",
        "from keras.layers import UpSampling2D, Conv2D\n",
        "from keras.models import Sequential, Model, load_model\n",
        "from keras.optimizers import Adam\n",
        "import numpy as np\n",
        "from PIL import Image\n",
        "from tqdm import tqdm\n",
        "import os\n",
        "import time\n",
        "import matplotlib.pyplot as plt"
      ],
      "metadata": {
        "id": "IWsQ_ssKPqH8"
      },
      "execution_count": 4,
      "outputs": []
    },
    {
      "cell_type": "code",
      "source": [
        "GENERATE_RES = 3 # Generation resolution factor\n",
        "# (1=32, 2=64, 3=96, 4=128, etc.)\n",
        "GENERATE_SQUARE = 32 * GENERATE_RES # rows/cols (should be square)\n",
        "IMAGE_CHANNELS = 3"
      ],
      "metadata": {
        "id": "SuRHDwqQP_IG"
      },
      "execution_count": 5,
      "outputs": []
    },
    {
      "cell_type": "code",
      "source": [
        "# Preview image\n",
        "PREVIEW_ROWS = 4\n",
        "PREVIEW_COLS = 7\n",
        "PREVIEW_MARGIN = 16"
      ],
      "metadata": {
        "id": "CAXrrojtQDj7"
      },
      "execution_count": 6,
      "outputs": []
    },
    {
      "cell_type": "code",
      "source": [
        "# Size vector to generate images from\n",
        "SEED_SIZE = 100"
      ],
      "metadata": {
        "id": "7QFF-XCZQH0j"
      },
      "execution_count": 7,
      "outputs": []
    },
    {
      "cell_type": "code",
      "source": [
        "# Configuration\n",
        "DATA_PATH = '/content/drive/MyDrive/Healthy'\n",
        "EPOCHS = 50\n",
        "BATCH_SIZE = 32\n",
        "BUFFER_SIZE = 60000"
      ],
      "metadata": {
        "id": "iDz8LsXhQMTP"
      },
      "execution_count": 9,
      "outputs": []
    },
    {
      "cell_type": "code",
      "source": [
        "print(f\"Will generate {GENERATE_SQUARE}px square images.\")"
      ],
      "metadata": {
        "colab": {
          "base_uri": "https://localhost:8080/"
        },
        "id": "6oZOEIx1QeDv",
        "outputId": "45e729b0-f379-4f72-d3bd-8003233b439d"
      },
      "execution_count": 10,
      "outputs": [
        {
          "output_type": "stream",
          "name": "stdout",
          "text": [
            "Will generate 96px square images.\n"
          ]
        }
      ]
    },
    {
      "cell_type": "code",
      "source": [
        "def hms_string(sec_elapsed):\n",
        "    h = int(sec_elapsed / (60 * 60))\n",
        "    m = int((sec_elapsed % (60 * 60)) / 60)\n",
        "    s = sec_elapsed % 60\n",
        "    return \"{}:{:>02}:{:>05.2f}\".format(h, m, s)\n",
        "\n",
        "training_binary_path = os.path.join(DATA_PATH,\n",
        "        f'training_data_{GENERATE_SQUARE}_{GENERATE_SQUARE}.npy')\n",
        "\n",
        "print(f\"Looking for file: {training_binary_path}\")\n",
        "\n",
        "if not os.path.isfile(training_binary_path):\n",
        "  start = time.time()\n",
        "  print(\"Loading training images...\")\n",
        "\n",
        "  training_data = []\n",
        "  faces_path = os.path.join(DATA_PATH)\n",
        "  for filename in tqdm(os.listdir(faces_path)):\n",
        "      path = os.path.join(faces_path,filename)\n",
        "      image = Image.open(path).resize((GENERATE_SQUARE,\n",
        "            GENERATE_SQUARE),Image.ANTIALIAS)\n",
        "      training_data.append(np.asarray(image))\n",
        "  training_data = np.reshape(training_data,(-1,GENERATE_SQUARE,\n",
        "            GENERATE_SQUARE,IMAGE_CHANNELS))\n",
        "  training_data = training_data.astype(np.float32)\n",
        "  training_data = training_data / 127.5 - 1.\n",
        "\n",
        "\n",
        "  print(\"Saving training image binary...\")\n",
        "  np.save(training_binary_path,training_data)\n",
        "  elapsed = time.time()-start\n",
        "  print (f'Image preprocess time: {hms_string(elapsed)}')\n",
        "else:\n",
        "  print(\"Loading previous training pickle...\")\n",
        "  training_data = np.load(training_binary_path)\n",
        "\n",
        "#shuffle the data\n",
        "train_dataset = tf.data.Dataset.from_tensor_slices(training_data) \\\n",
        "    .shuffle(BUFFER_SIZE).batch(BATCH_SIZE)"
      ],
      "metadata": {
        "colab": {
          "base_uri": "https://localhost:8080/"
        },
        "id": "3Y0jyepsQt7V",
        "outputId": "64bbde9a-7aa3-47fc-b9e0-4e8c9ac847b4"
      },
      "execution_count": 11,
      "outputs": [
        {
          "output_type": "stream",
          "name": "stdout",
          "text": [
            "Looking for file: /content/drive/MyDrive/Healthy/training_data_96_96.npy\n",
            "Loading training images...\n"
          ]
        },
        {
          "output_type": "stream",
          "name": "stderr",
          "text": [
            "  0%|          | 0/365 [00:00<?, ?it/s]<ipython-input-11-9984d5b00f2f>:21: DeprecationWarning: ANTIALIAS is deprecated and will be removed in Pillow 10 (2023-07-01). Use LANCZOS or Resampling.LANCZOS instead.\n",
            "  GENERATE_SQUARE),Image.ANTIALIAS)\n",
            "100%|██████████| 365/365 [00:04<00:00, 83.40it/s] \n"
          ]
        },
        {
          "output_type": "stream",
          "name": "stdout",
          "text": [
            "Saving training image binary...\n",
            "Image preprocess time: 0:00:04.61\n"
          ]
        }
      ]
    },
    {
      "cell_type": "code",
      "source": [
        "def build_generator(seed_size, channels):\n",
        "    model = Sequential()\n",
        "\n",
        "    model.add(Dense(4*4*256,activation=\"relu\",input_dim=seed_size))\n",
        "    model.add(Reshape((4,4,256)))\n",
        "\n",
        "    model.add(UpSampling2D())\n",
        "    model.add(Conv2D(256,kernel_size=3,padding=\"same\"))\n",
        "    model.add(BatchNormalization(momentum=0.8))\n",
        "    model.add(Activation(\"relu\"))\n",
        "\n",
        "    model.add(UpSampling2D())\n",
        "    model.add(Conv2D(256,kernel_size=3,padding=\"same\"))\n",
        "    model.add(BatchNormalization(momentum=0.8))\n",
        "    model.add(Activation(\"relu\"))\n",
        "\n",
        "    # Output resolution, additional upsampling\n",
        "    model.add(UpSampling2D())\n",
        "    model.add(Conv2D(128,kernel_size=3,padding=\"same\"))\n",
        "    model.add(BatchNormalization(momentum=0.8))\n",
        "    model.add(Activation(\"relu\"))\n",
        "\n",
        "    if GENERATE_RES>1:\n",
        "      model.add(UpSampling2D(size=(GENERATE_RES,GENERATE_RES)))\n",
        "      model.add(Conv2D(128,kernel_size=3,padding=\"same\"))\n",
        "      model.add(BatchNormalization(momentum=0.8))\n",
        "      model.add(Activation(\"relu\"))\n",
        "\n",
        "    # Final CNN layer\n",
        "    model.add(Conv2D(channels,kernel_size=3,padding=\"same\"))\n",
        "    model.add(Activation(\"tanh\"))\n",
        "\n",
        "    return model"
      ],
      "metadata": {
        "id": "GslVwdHeQ7j9"
      },
      "execution_count": 12,
      "outputs": []
    },
    {
      "cell_type": "code",
      "source": [
        "def build_discriminator(image_shape):\n",
        "    model = Sequential()\n",
        "\n",
        "    model.add(Conv2D(32, kernel_size=3, strides=2, input_shape=image_shape,\n",
        "                     padding=\"same\"))\n",
        "    model.add(LeakyReLU(alpha=0.2))\n",
        "\n",
        "    model.add(Dropout(0.25))\n",
        "    model.add(Conv2D(64, kernel_size=3, strides=2, padding=\"same\"))\n",
        "    model.add(ZeroPadding2D(padding=((0,1),(0,1))))\n",
        "    model.add(BatchNormalization(momentum=0.8))\n",
        "    model.add(LeakyReLU(alpha=0.2))\n",
        "\n",
        "    model.add(Dropout(0.25))\n",
        "    model.add(Conv2D(128, kernel_size=3, strides=2, padding=\"same\"))\n",
        "    model.add(BatchNormalization(momentum=0.8))\n",
        "    model.add(LeakyReLU(alpha=0.2))\n",
        "\n",
        "    model.add(Dropout(0.25))\n",
        "    model.add(Conv2D(256, kernel_size=3, strides=1, padding=\"same\"))\n",
        "    model.add(BatchNormalization(momentum=0.8))\n",
        "    model.add(LeakyReLU(alpha=0.2))\n",
        "\n",
        "    model.add(Dropout(0.25))\n",
        "    model.add(Conv2D(512, kernel_size=3, strides=1, padding=\"same\"))\n",
        "    model.add(BatchNormalization(momentum=0.8))\n",
        "    model.add(LeakyReLU(alpha=0.2))\n",
        "\n",
        "    model.add(Dropout(0.25))\n",
        "    model.add(Flatten())\n",
        "    model.add(Dense(1, activation='sigmoid'))\n",
        "\n",
        "    return model"
      ],
      "metadata": {
        "id": "RBu9QK7_RHck"
      },
      "execution_count": 13,
      "outputs": []
    },
    {
      "cell_type": "code",
      "source": [
        "def save_images(cnt,noise):\n",
        "  image_array = np.full((\n",
        "      PREVIEW_MARGIN + (PREVIEW_ROWS * (GENERATE_SQUARE+PREVIEW_MARGIN)),\n",
        "      PREVIEW_MARGIN + (PREVIEW_COLS * (GENERATE_SQUARE+PREVIEW_MARGIN)), 3),\n",
        "      255, dtype=np.uint8)\n",
        "\n",
        "  generated_images = generator.predict(noise)\n",
        "\n",
        "  generated_images = 0.5 * generated_images + 0.5\n",
        "\n",
        "  image_count = 0\n",
        "  for row in range(PREVIEW_ROWS):\n",
        "      for col in range(PREVIEW_COLS):\n",
        "        r = row * (GENERATE_SQUARE+16) + PREVIEW_MARGIN\n",
        "        c = col * (GENERATE_SQUARE+16) + PREVIEW_MARGIN\n",
        "        image_array[r:r+GENERATE_SQUARE,c:c+GENERATE_SQUARE] \\\n",
        "            = generated_images[image_count] * 255\n",
        "        image_count += 1\n",
        "\n",
        "\n",
        "  output_path = os.path.join(DATA_PATH,'output')\n",
        "  if not os.path.exists(output_path):\n",
        "    os.makedirs(output_path)\n",
        "\n",
        "  filename = os.path.join(output_path,f\"train-{cnt}.png\")\n",
        "  im = Image.fromarray(image_array)\n",
        "  im.save(filename)\n",
        "\n",
        "generator = build_generator(SEED_SIZE, IMAGE_CHANNELS)\n",
        "\n",
        "noise = tf.random.normal([1, SEED_SIZE])\n",
        "generated_image = generator(noise, training=False)\n",
        "\n",
        "plt.imshow(generated_image[0, :, :, 0])\n",
        "\n",
        "image_shape = (GENERATE_SQUARE,GENERATE_SQUARE,IMAGE_CHANNELS)\n",
        "\n",
        "discriminator = build_discriminator(image_shape)\n",
        "decision = discriminator(generated_image)\n",
        "print (decision)\n",
        "\n",
        "cross_entropy = tf.keras.losses.BinaryCrossentropy()"
      ],
      "metadata": {
        "colab": {
          "base_uri": "https://localhost:8080/",
          "height": 450
        },
        "id": "BAzbBDIgRPF7",
        "outputId": "2b00197b-0d7b-4da8-d077-59f89ed02ebd"
      },
      "execution_count": 14,
      "outputs": [
        {
          "output_type": "stream",
          "name": "stdout",
          "text": [
            "tf.Tensor([[0.49957624]], shape=(1, 1), dtype=float32)\n"
          ]
        },
        {
          "output_type": "display_data",
          "data": {
            "text/plain": [
              "<Figure size 640x480 with 1 Axes>"
            ],
            "image/png": "[encoded data removed]"
          },
          "metadata": {}
        }
      ]
    },
    {
      "cell_type": "code",
      "source": [
        "def discriminator_loss(real_output, fake_output):\n",
        "    real_loss = cross_entropy(tf.ones_like(real_output), real_output)\n",
        "    fake_loss = cross_entropy(tf.zeros_like(fake_output), fake_output)\n",
        "    total_loss = real_loss + fake_loss\n",
        "    return total_loss\n",
        "\n",
        "def generator_loss(fake_output):\n",
        "    return cross_entropy(tf.ones_like(fake_output), fake_output)\n",
        "\n",
        "generator_optimizer = tf.keras.optimizers.Adam(1.5e-4,0.5)\n",
        "discriminator_optimizer = tf.keras.optimizers.Adam(1.5e-4,0.5)\n"
      ],
      "metadata": {
        "id": "wVs8S8aERa7j"
      },
      "execution_count": 15,
      "outputs": []
    },
    {
      "cell_type": "code",
      "source": [
        "@tf.function\n",
        "def train_step(images):\n",
        "  seed = tf.random.normal([BATCH_SIZE, SEED_SIZE])\n",
        "\n",
        "  with tf.GradientTape() as gen_tape, tf.GradientTape() as disc_tape:\n",
        "    generated_images = generator(seed, training=True)\n",
        "\n",
        "    real_output = discriminator(images, training=True)\n",
        "    fake_output = discriminator(generated_images, training=True)\n",
        "\n",
        "    gen_loss = generator_loss(fake_output)\n",
        "    disc_loss = discriminator_loss(real_output, fake_output)\n",
        "\n",
        "\n",
        "    gradients_of_generator = gen_tape.gradient(\\\n",
        "        gen_loss, generator.trainable_variables)\n",
        "    gradients_of_discriminator = disc_tape.gradient(\\\n",
        "        disc_loss, discriminator.trainable_variables)\n",
        "\n",
        "    generator_optimizer.apply_gradients(zip(\n",
        "        gradients_of_generator, generator.trainable_variables))\n",
        "    discriminator_optimizer.apply_gradients(zip(\n",
        "        gradients_of_discriminator,\n",
        "        discriminator.trainable_variables))\n",
        "  return gen_loss,disc_loss"
      ],
      "metadata": {
        "id": "eYQ5lQD9RwpW"
      },
      "execution_count": 17,
      "outputs": []
    },
    {
      "cell_type": "code",
      "source": [
        "def train(dataset, epochs):\n",
        "  fixed_seed = np.random.normal(0, 1, (PREVIEW_ROWS * PREVIEW_COLS,\n",
        "                                       SEED_SIZE))\n",
        "  start = time.time()\n",
        "\n",
        "  for epoch in range(epochs):\n",
        "    epoch_start = time.time()\n",
        "\n",
        "    gen_loss_list = []\n",
        "    disc_loss_list = []\n",
        "\n",
        "    for image_batch in dataset:\n",
        "      t = train_step(image_batch)\n",
        "      gen_loss_list.append(t[0])\n",
        "      disc_loss_list.append(t[1])\n",
        "\n",
        "    g_loss = sum(gen_loss_list) / len(gen_loss_list)\n",
        "    d_loss = sum(disc_loss_list) / len(disc_loss_list)\n",
        "\n",
        "    epoch_elapsed = time.time()-epoch_start\n",
        "    print (f'Epoch {epoch+1}, gen loss={g_loss},disc loss={d_loss},'\\\n",
        "           ' {hms_string(epoch_elapsed)}')\n",
        "    save_images(epoch,fixed_seed)\n",
        "\n",
        "  elapsed = time.time()-start\n",
        "  print (f'Training time: {hms_string(elapsed)}')\n",
        "\n",
        "train(train_dataset, EPOCHS)"
      ],
      "metadata": {
        "colab": {
          "base_uri": "https://localhost:8080/"
        },
        "id": "Sc5RERmJSCgM",
        "outputId": "c1ab00f5-ac1e-40b7-a97a-5d6c5f2f9bf0"
      },
      "execution_count": 18,
      "outputs": [
        {
          "output_type": "stream",
          "name": "stdout",
          "text": [
            "Epoch 1, gen loss=1.3885968923568726,disc loss=1.0468353033065796, {hms_string(epoch_elapsed)}\n",
            "1/1 [==============================] - 3s 3s/step\n",
            "Epoch 2, gen loss=1.809933066368103,disc loss=0.8610029220581055, {hms_string(epoch_elapsed)}\n",
            "1/1 [==============================] - 2s 2s/step\n",
            "Epoch 3, gen loss=2.857011556625366,disc loss=0.6356162428855896, {hms_string(epoch_elapsed)}\n",
            "1/1 [==============================] - 2s 2s/step\n",
            "Epoch 4, gen loss=3.1952133178710938,disc loss=0.36318477988243103, {hms_string(epoch_elapsed)}\n",
            "1/1 [==============================] - 2s 2s/step\n",
            "Epoch 5, gen loss=3.2290077209472656,disc loss=0.6155793070793152, {hms_string(epoch_elapsed)}\n",
            "1/1 [==============================] - 2s 2s/step\n",
            "Epoch 6, gen loss=5.470054626464844,disc loss=1.216657042503357, {hms_string(epoch_elapsed)}\n",
            "1/1 [==============================] - 4s 4s/step\n",
            "Epoch 7, gen loss=3.231854200363159,disc loss=0.9141795635223389, {hms_string(epoch_elapsed)}\n",
            "1/1 [==============================] - 4s 4s/step\n",
            "Epoch 8, gen loss=4.63453483581543,disc loss=0.597002387046814, {hms_string(epoch_elapsed)}\n",
            "1/1 [==============================] - 3s 3s/step\n",
            "Epoch 9, gen loss=4.610055923461914,disc loss=0.6391979455947876, {hms_string(epoch_elapsed)}\n",
            "1/1 [==============================] - 2s 2s/step\n",
            "Epoch 10, gen loss=4.813731670379639,disc loss=1.3767694234848022, {hms_string(epoch_elapsed)}\n",
            "1/1 [==============================] - 2s 2s/step\n",
            "Epoch 11, gen loss=4.595947742462158,disc loss=0.2466890662908554, {hms_string(epoch_elapsed)}\n",
            "1/1 [==============================] - 2s 2s/step\n",
            "Epoch 12, gen loss=3.3800532817840576,disc loss=0.5784822106361389, {hms_string(epoch_elapsed)}\n",
            "1/1 [==============================] - 2s 2s/step\n",
            "Epoch 13, gen loss=3.667778730392456,disc loss=0.9492688179016113, {hms_string(epoch_elapsed)}\n",
            "1/1 [==============================] - 2s 2s/step\n",
            "Epoch 14, gen loss=4.210540294647217,disc loss=0.6312973499298096, {hms_string(epoch_elapsed)}\n",
            "1/1 [==============================] - 3s 3s/step\n",
            "Epoch 15, gen loss=4.256896495819092,disc loss=0.9268597960472107, {hms_string(epoch_elapsed)}\n",
            "1/1 [==============================] - 2s 2s/step\n",
            "Epoch 16, gen loss=3.3940322399139404,disc loss=0.6420572996139526, {hms_string(epoch_elapsed)}\n",
            "1/1 [==============================] - 2s 2s/step\n",
            "Epoch 17, gen loss=4.239773750305176,disc loss=0.73341965675354, {hms_string(epoch_elapsed)}\n",
            "1/1 [==============================] - 2s 2s/step\n",
            "Epoch 18, gen loss=4.500169277191162,disc loss=0.48315417766571045, {hms_string(epoch_elapsed)}\n",
            "1/1 [==============================] - 2s 2s/step\n",
            "Epoch 19, gen loss=4.254429340362549,disc loss=0.29370978474617004, {hms_string(epoch_elapsed)}\n",
            "1/1 [==============================] - 2s 2s/step\n",
            "Epoch 20, gen loss=4.497928619384766,disc loss=0.5461971163749695, {hms_string(epoch_elapsed)}\n",
            "1/1 [==============================] - 2s 2s/step\n",
            "Epoch 21, gen loss=5.510611057281494,disc loss=0.1932162046432495, {hms_string(epoch_elapsed)}\n",
            "1/1 [==============================] - 3s 3s/step\n",
            "Epoch 22, gen loss=4.672958850860596,disc loss=0.20133553445339203, {hms_string(epoch_elapsed)}\n",
            "1/1 [==============================] - 3s 3s/step\n",
            "Epoch 23, gen loss=4.4262776374816895,disc loss=0.3368624746799469, {hms_string(epoch_elapsed)}\n",
            "1/1 [==============================] - 3s 3s/step\n",
            "Epoch 24, gen loss=5.541175365447998,disc loss=0.13525904715061188, {hms_string(epoch_elapsed)}\n",
            "1/1 [==============================] - 3s 3s/step\n",
            "Epoch 25, gen loss=4.596785068511963,disc loss=0.2365451604127884, {hms_string(epoch_elapsed)}\n",
            "1/1 [==============================] - 4s 4s/step\n",
            "Epoch 26, gen loss=4.533406734466553,disc loss=0.19913242757320404, {hms_string(epoch_elapsed)}\n",
            "1/1 [==============================] - 2s 2s/step\n",
            "Epoch 27, gen loss=4.971144676208496,disc loss=0.1440354734659195, {hms_string(epoch_elapsed)}\n",
            "1/1 [==============================] - 2s 2s/step\n",
            "Epoch 28, gen loss=4.8616156578063965,disc loss=0.2020559310913086, {hms_string(epoch_elapsed)}\n",
            "1/1 [==============================] - 2s 2s/step\n",
            "Epoch 29, gen loss=5.418232440948486,disc loss=0.2781497538089752, {hms_string(epoch_elapsed)}\n",
            "1/1 [==============================] - 2s 2s/step\n",
            "Epoch 30, gen loss=5.1836161613464355,disc loss=0.17370110750198364, {hms_string(epoch_elapsed)}\n",
            "1/1 [==============================] - 3s 3s/step\n",
            "Epoch 31, gen loss=5.236941337585449,disc loss=0.1713293045759201, {hms_string(epoch_elapsed)}\n",
            "1/1 [==============================] - 3s 3s/step\n",
            "Epoch 32, gen loss=5.875492572784424,disc loss=0.18399952352046967, {hms_string(epoch_elapsed)}\n",
            "1/1 [==============================] - 2s 2s/step\n",
            "Epoch 33, gen loss=5.218759536743164,disc loss=0.14370615780353546, {hms_string(epoch_elapsed)}\n",
            "1/1 [==============================] - 2s 2s/step\n",
            "Epoch 34, gen loss=5.474538803100586,disc loss=0.11957450956106186, {hms_string(epoch_elapsed)}\n",
            "1/1 [==============================] - 2s 2s/step\n",
            "Epoch 35, gen loss=5.286369800567627,disc loss=0.24875213205814362, {hms_string(epoch_elapsed)}\n",
            "1/1 [==============================] - 2s 2s/step\n",
            "Epoch 36, gen loss=5.732655048370361,disc loss=0.15595944225788116, {hms_string(epoch_elapsed)}\n",
            "1/1 [==============================] - 2s 2s/step\n",
            "Epoch 37, gen loss=5.273123264312744,disc loss=0.16193027794361115, {hms_string(epoch_elapsed)}\n",
            "1/1 [==============================] - 2s 2s/step\n",
            "Epoch 38, gen loss=5.285985946655273,disc loss=0.2019193172454834, {hms_string(epoch_elapsed)}\n",
            "1/1 [==============================] - 4s 4s/step\n",
            "Epoch 39, gen loss=4.994343280792236,disc loss=0.2514602541923523, {hms_string(epoch_elapsed)}\n",
            "1/1 [==============================] - 3s 3s/step\n",
            "Epoch 40, gen loss=6.304220676422119,disc loss=0.1965067982673645, {hms_string(epoch_elapsed)}\n",
            "1/1 [==============================] - 2s 2s/step\n",
            "Epoch 41, gen loss=5.719388484954834,disc loss=0.08028782159090042, {hms_string(epoch_elapsed)}\n",
            "1/1 [==============================] - 2s 2s/step\n",
            "Epoch 42, gen loss=5.739832401275635,disc loss=0.07092981785535812, {hms_string(epoch_elapsed)}\n",
            "1/1 [==============================] - 3s 3s/step\n",
            "Epoch 43, gen loss=5.682410717010498,disc loss=0.11638467758893967, {hms_string(epoch_elapsed)}\n",
            "1/1 [==============================] - 2s 2s/step\n",
            "Epoch 44, gen loss=5.35986852645874,disc loss=0.21061664819717407, {hms_string(epoch_elapsed)}\n",
            "1/1 [==============================] - 2s 2s/step\n",
            "Epoch 45, gen loss=5.816558837890625,disc loss=0.08578158169984818, {hms_string(epoch_elapsed)}\n",
            "1/1 [==============================] - 2s 2s/step\n",
            "Epoch 46, gen loss=5.525814056396484,disc loss=0.10366067290306091, {hms_string(epoch_elapsed)}\n",
            "1/1 [==============================] - 2s 2s/step\n",
            "Epoch 47, gen loss=6.0735650062561035,disc loss=0.1518770158290863, {hms_string(epoch_elapsed)}\n",
            "1/1 [==============================] - 2s 2s/step\n",
            "Epoch 48, gen loss=5.607306003570557,disc loss=0.08684704452753067, {hms_string(epoch_elapsed)}\n",
            "1/1 [==============================] - 2s 2s/step\n",
            "Epoch 49, gen loss=5.782081127166748,disc loss=0.08025949448347092, {hms_string(epoch_elapsed)}\n",
            "1/1 [==============================] - 2s 2s/step\n",
            "Epoch 50, gen loss=6.08088493347168,disc loss=0.09569855779409409, {hms_string(epoch_elapsed)}\n",
            "1/1 [==============================] - 2s 2s/step\n",
            "Training time: 2:24:08.76\n"
          ]
        }
      ]
    }
  ]
}